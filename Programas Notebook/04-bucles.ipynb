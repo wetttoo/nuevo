{
 "cells": [
  {
   "cell_type": "markdown",
   "metadata": {},
   "source": [
    "# Bucles en código while "
   ]
  },
  {
   "cell_type": "markdown",
   "metadata": {},
   "source": [
    "## Bucle o ciclo infinito"
   ]
  },
  {
   "cell_type": "code",
   "execution_count": null,
   "metadata": {},
   "outputs": [],
   "source": [
    "while True:\n",
    "    print('Estoy trabajando en el bucle infinito')"
   ]
  },
  {
   "cell_type": "code",
   "execution_count": 4,
   "metadata": {},
   "outputs": [
    {
     "name": "stdout",
     "output_type": "stream",
     "text": [
      "1\n",
      "2\n",
      "3\n",
      "4\n",
      "5\n",
      "6\n",
      "7\n",
      "8\n",
      "9\n",
      "10\n"
     ]
    }
   ],
   "source": [
    "i = 0\n",
    "while i<=10:\n",
    "    print(i+1)\n",
    "    #i=i+1\n",
    "    i+=1\n"
   ]
  },
  {
   "cell_type": "markdown",
   "metadata": {},
   "source": [
    "### Reto: Realizar un programa utilizando el ciclo anterior, pero se debe solicitar al usuario el numero de veces que el usuario introducira valores, y deben contar cuantos son pares y cuantos impares"
   ]
  },
  {
   "cell_type": "code",
   "execution_count": null,
   "metadata": {},
   "outputs": [],
   "source": [
    "numero_vueltas = int(input('Introduce el numero de valores a solicitar'))\n",
    "\n",
    "total_pares = 0\n",
    "total_impares = 0\n",
    "\n",
    "i = 1\n",
    "\n",
    "while i<=numero_vueltas:\n",
    "    numero = int(input(f'Introduce el numero {i}'))\n",
    "\n",
    "    if numero%2 == 0:\n",
    "        total_pares+=1\n",
    "    else:\n",
    "        total_impares+=1\n",
    "    \n",
    "    i+=1\n",
    "\n",
    "print(f'El total de pares es: {total_pares}')   \n",
    "print(f'El total de impares es: {total_impares}')\n"
   ]
  },
  {
   "cell_type": "code",
   "execution_count": 6,
   "metadata": {},
   "outputs": [
    {
     "name": "stdout",
     "output_type": "stream",
     "text": [
      "El total de pares es: 2\n",
      "El total de impares es: 1\n"
     ]
    }
   ],
   "source": [
    "numero_vueltas = int(input('Introduce el numero de valores a solicitar'))\n",
    "\n",
    "total_pares = 0\n",
    "total_impares = 0\n",
    "\n",
    "numero = 0\n",
    "\n",
    "while numero!=-1:\n",
    "    numero = int(input(f'Introduce el numero {i}'))\n",
    "\n",
    "    if numero!=-1:\n",
    "        if numero%2 == 0:\n",
    "            total_pares+=1\n",
    "        else:\n",
    "            total_impares+=1\n",
    "    \n",
    "\n",
    "print(f'El total de pares es: {total_pares}')   \n",
    "print(f'El total de impares es: {total_impares}')"
   ]
  },
  {
   "cell_type": "code",
   "execution_count": 8,
   "metadata": {},
   "outputs": [
    {
     "name": "stdout",
     "output_type": "stream",
     "text": [
      "1\n",
      "2\n",
      "3\n",
      "4\n",
      "5\n",
      "6\n",
      "7\n",
      "8\n",
      "9\n",
      "10\n"
     ]
    }
   ],
   "source": [
    "i=1\n",
    "while True:\n",
    "    if(i==10):\n",
    "        print(i)\n",
    "        break\n",
    "    print(i)\n",
    "    i+=1"
   ]
  },
  {
   "cell_type": "code",
   "execution_count": null,
   "metadata": {},
   "outputs": [],
   "source": [
    "total_pares = 0\n",
    "total_impares = 0\n",
    "\n",
    "continuar = True\n",
    "\n",
    "while continuar:\n",
    "    numero = int(input(f'Introduce el numero: '))\n",
    "\n",
    "    if numero == -1:\n",
    "        print('El programa ha sido terminado por el usuario')\n",
    "        continuar = False\n",
    "    elif numero%2 == 0:\n",
    "        total_pares+=1\n",
    "    else:\n",
    "        total_impares+=1\n",
    "        \n",
    "print(f'El numero total de pares es: {total_pares}')\n",
    "print(f'El numero total de impares es: {total_impares} ')"
   ]
  },
  {
   "cell_type": "markdown",
   "metadata": {},
   "source": [
    "# LAB   Adivina el número secreto"
   ]
  },
  {
   "cell_type": "markdown",
   "metadata": {},
   "source": [
    "Escenario\n",
    "Un mago junior ha elegido un número secreto. Lo ha escondido en una variable llamada secret_number. Quiere que todos los que ejecutan su programa jueguen el juego Adivina el número secreto, y adivina qué número ha elegido para ellos. ¡Quiénes no adivinen el número quedarán atrapados en un bucle sin fin para siempre! Desafortunadamente, él no sabe cómo completar el código.\n",
    "\n",
    "Tu tarea es ayudar al mago a completar el código en el editor de tal manera que el código:\n",
    "\n",
    "pedirá al usuario que ingrese un número entero;\n",
    "utilizará un bucle while;\n",
    "comprobará si el número ingresado por el usuario es el mismo que el número escogido por el mago. Si el número elegido por el usuario es diferente al número secreto del mago, el usuario debería ver el mensaje \"¡Ja, ja! ¡Estás atrapado en mi bucle!\" y se le solicitará que ingrese un número nuevamente. Si el número ingresado por el usuario coincide con el número escogido por el mago, el número debe imprimirse en la pantalla, y el mago debe decir las siguientes palabras: \"¡Bien hecho, muggle! Eres libre ahora.\"\n",
    "¡El mago está contando contigo! No lo decepciones."
   ]
  },
  {
   "cell_type": "code",
   "execution_count": null,
   "metadata": {},
   "outputs": [],
   "source": [
    "secret_number = 666\n",
    "numero = 0\n",
    "\n",
    "while numero!=secret_number:\n",
    "    numero = int(input('Ingresa un numero: '))\n",
    "    if numero == secret_number:\n",
    "        print('\"¡Bien hecho, muggle! Eres libre ahora.\"')\n",
    "    else:\n",
    "        print(\"¡Ja, ja! ¡Estás atrapado en mi bucle!\")\n"
   ]
  },
  {
   "cell_type": "code",
   "execution_count": null,
   "metadata": {},
   "outputs": [],
   "source": [
    "secret_number = 666\n",
    "numero = 0\n",
    "termina = False\n",
    "while termina:\n",
    "    numero = int(input('Ingresa un numero: '))\n",
    "    if numero == secret_number:\n",
    "        print('\"¡Bien hecho, muggle! Eres libre ahora.\"')\n",
    "        termina = True\n",
    "    else:\n",
    "        print(\"¡Ja, ja! ¡Estás atrapado en mi bucle!\")"
   ]
  },
  {
   "cell_type": "markdown",
   "metadata": {},
   "source": [
    "# Bucles en tu código con for\n",
    "\n",
    "Otro tipo de bucle disponible en Python proviene de la observación de que a veces es más importante contar los \"giros o vueltas\" del bucle que verificar las condiciones.\n",
    "\n",
    "```python\n",
    "for i in range(100):\n",
    "    # do_something()\n",
    "    pass\n",
    "```"
   ]
  },
  {
   "cell_type": "code",
   "execution_count": 4,
   "metadata": {},
   "outputs": [],
   "source": [
    "for i in range(100):\n",
    "    # hacer_algo\n",
    "    pass"
   ]
  },
  {
   "cell_type": "code",
   "execution_count": 6,
   "metadata": {},
   "outputs": [],
   "source": [
    "if True:\n",
    "    # Hacer algo\n",
    "    pass"
   ]
  },
  {
   "cell_type": "code",
   "execution_count": 8,
   "metadata": {},
   "outputs": [
    {
     "name": "stdout",
     "output_type": "stream",
     "text": [
      "El valor de i es: 0\n",
      "El valor de i es: 1\n",
      "El valor de i es: 2\n",
      "El valor de i es: 3\n",
      "El valor de i es: 4\n",
      "El valor de i es: 5\n",
      "El valor de i es: 6\n",
      "El valor de i es: 7\n",
      "El valor de i es: 8\n",
      "El valor de i es: 9\n"
     ]
    }
   ],
   "source": [
    "for i in range(10):\n",
    "    print(f'El valor de i es: {i}')"
   ]
  },
  {
   "cell_type": "markdown",
   "metadata": {},
   "source": [
    "Nota:\n",
    "\n",
    "El bucle se ha ejecutado diez veces (es el argumento de la función range())\n",
    "El valor de la última variable de control es 9 (no 10, ya que comienza desde 0 , no desde 1)"
   ]
  },
  {
   "cell_type": "code",
   "execution_count": 10,
   "metadata": {},
   "outputs": [
    {
     "name": "stdout",
     "output_type": "stream",
     "text": [
      "El valor del item es 2\n",
      "El valor del item es 3\n",
      "El valor del item es 4\n",
      "El valor del item es 5\n",
      "El valor del item es 6\n",
      "El valor del item es 7\n",
      "El valor del item es 8\n"
     ]
    }
   ],
   "source": [
    "for item in range(2,9):\n",
    "    print(f'El valor del item es {item}')"
   ]
  },
  {
   "cell_type": "markdown",
   "metadata": {},
   "source": [
    "En este caso, el primer argumento determina el valor inicial (primero) de la variable de control.\n",
    "\n",
    "El último argumento muestra el primer valor que no se asignará a la variable de control.\n",
    "\n",
    "Nota: la función range() solo acepta enteros como argumentos y genera secuencias de enteros.\n",
    "\n",
    "¿Puedes adivinar la output del programa? Ejecútalo para comprobar si ahora también estabas en lo cierto.\n",
    "\n",
    "El primer valor mostrado es 2 (tomado del primer argumento de range()).\n",
    "\n",
    "El último es 7 (aunque el segundo argumento de range() es 8)."
   ]
  },
  {
   "cell_type": "markdown",
   "metadata": {},
   "source": [
    "La función range() también puede aceptar tres argumentos"
   ]
  },
  {
   "cell_type": "code",
   "execution_count": 12,
   "metadata": {},
   "outputs": [
    {
     "name": "stdout",
     "output_type": "stream",
     "text": [
      "El valor de x es: 2\n",
      "El valor de x es: 5\n",
      "El valor de x es: 8\n"
     ]
    }
   ],
   "source": [
    "for x in range(2,9,3):\n",
    "    print(f'El valor de x es: {x}')"
   ]
  },
  {
   "cell_type": "markdown",
   "metadata": {},
   "source": [
    "# LAB   Fundamentos del bucle for – contando lentamente (mississippily)\n",
    "\n",
    "Tu tarea es muy simple aquí: escribe un programa que use un bucle for para \"contar de forma mississippi\" hasta cinco. Habiendo contado hasta cinco, el programa debería imprimir en la pantalla el mensaje final \"¡Listos o no, ahí voy!\"\n",
    "\n",
    "Utiliza el esqueleto que hemos proporcionado en el editor."
   ]
  },
  {
   "cell_type": "code",
   "execution_count": null,
   "metadata": {},
   "outputs": [],
   "source": [
    "import time\n",
    "\n",
    "# Escribe un bucle for que cuente hasta cinco.\n",
    "for i in range(5):\n",
    "    # Cuerpo del bucle: imprime el número de iteración del bucle y la palabra \"Mississippi\".\n",
    "    print(f'{i} Mississippi')\n",
    "    # Cuerpo del bucle, emplea : time.sleep(1)\n",
    "    time.sleep(1)\n",
    "# Escribe una función print con el mensaje final.\n",
    "print('Bye')"
   ]
  },
  {
   "cell_type": "code",
   "execution_count": null,
   "metadata": {},
   "outputs": [],
   "source": [
    "import time\n",
    "\n",
    "# Escribe un bucle for que cuente hasta cinco.\n",
    "for i in range(5):\n",
    "    # Cuerpo del bucle: imprime el número de iteración del bucle y la palabra \"Mississippi\".\n",
    "    print(f'{i+1} Mississippi')\n",
    "    # Cuerpo del bucle, emplea : time.sleep(1)\n",
    "    time.sleep(1)\n",
    "# Escribe una función print con el mensaje final.\n",
    "print('Bye')"
   ]
  },
  {
   "cell_type": "code",
   "execution_count": 17,
   "metadata": {},
   "outputs": [
    {
     "name": "stdout",
     "output_type": "stream",
     "text": [
      "1 Mississippi\n",
      "2 Mississippi\n",
      "3 Mississippi\n",
      "4 Mississippi\n",
      "5 Mississippi\n",
      "Bye\n"
     ]
    }
   ],
   "source": [
    "import time\n",
    "# Escribe un bucle for que cuente hasta cinco.\n",
    "for i in range(1,6):\n",
    "    # Cuerpo del bucle: imprime el número de iteración del bucle y la palabra \"Mississippi\".\n",
    "    print(f'{i} Mississippi')\n",
    "    # Cuerpo del bucle, emplea : time.sleep(1)\n",
    "    time.sleep(1)\n",
    "# Escribe una función print con el mensaje final.\n",
    "print('Bye')"
   ]
  },
  {
   "cell_type": "markdown",
   "metadata": {},
   "source": [
    "# Las sentencias break y continue\n",
    "\n",
    "Estas dos instrucciones son:\n",
    "\n",
    "1. break - sale del bucle inmediatamente, e incondicionalmente termina la operación del bucle; el programa comienza a ejecutar la instrucción más cercana después del cuerpo del bucle.\n",
    "1. continue - se comporta como si el programa hubiera llegado repentinamente al final del cuerpo; el siguiente turno se inicia y la expresión de condición se prueba de inmediato."
   ]
  },
  {
   "cell_type": "code",
   "execution_count": 18,
   "metadata": {},
   "outputs": [
    {
     "name": "stdout",
     "output_type": "stream",
     "text": [
      "El valor de i es 0\n",
      "El valor de i es 1\n",
      "El valor de i es 2\n",
      "El valor de i es 3\n",
      "El valor de i es 4\n"
     ]
    }
   ],
   "source": [
    "for i in range(1000):\n",
    "    if i == 5:\n",
    "        break;\n",
    "    print(f\"El valor de i es {i}\")"
   ]
  },
  {
   "cell_type": "code",
   "execution_count": 19,
   "metadata": {},
   "outputs": [
    {
     "name": "stdout",
     "output_type": "stream",
     "text": [
      "La instrucción break\n",
      "Dentro del bucle. 1\n",
      "Dentro del bucle. 2\n",
      "Fuera del bucle.\n"
     ]
    }
   ],
   "source": [
    "print('La instrucción break')\n",
    "for i in range(1,6):\n",
    "    if i == 3:\n",
    "        break\n",
    "    print(f'Dentro del bucle. {i}')\n",
    "print('Fuera del bucle.')\n"
   ]
  },
  {
   "cell_type": "code",
   "execution_count": 20,
   "metadata": {},
   "outputs": [
    {
     "name": "stdout",
     "output_type": "stream",
     "text": [
      "La instrucción continue\n",
      "Dentro del bucle 1\n",
      "Dentro del bucle 2\n",
      "Dentro del bucle 4\n",
      "Dentro del bucle 5\n",
      "Fuera del bucle\n"
     ]
    }
   ],
   "source": [
    "print('La instrucción continue')\n",
    "for i in range(1,6):\n",
    "    if i == 3:\n",
    "        continue\n",
    "    print(f'Dentro del bucle {i}')\n",
    "print('Fuera del bucle')"
   ]
  }
 ],
 "metadata": {
  "kernelspec": {
   "display_name": "Python 3",
   "language": "python",
   "name": "python3"
  },
  "language_info": {
   "codemirror_mode": {
    "name": "ipython",
    "version": 3
   },
   "file_extension": ".py",
   "mimetype": "text/x-python",
   "name": "python",
   "nbconvert_exporter": "python",
   "pygments_lexer": "ipython3",
   "version": "3.12.3"
  }
 },
 "nbformat": 4,
 "nbformat_minor": 2
}
