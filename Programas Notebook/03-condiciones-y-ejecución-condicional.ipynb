{
 "cells": [
  {
   "cell_type": "markdown",
   "metadata": {},
   "source": [
    "# Condiciones y ejecución condicional\n",
    "\n",
    "Ya sabes como hacer preguntas a Python, pero aún no sabes como hacer un uso razonable de las respuestas. Se debe tener un mecanismo que le permita hacer algo si se cumple una condición, y no hacerlo si no se cumple.\n",
    "\n",
    "Es como en la vida real: haces ciertas cosas o no cuando se cumple una condición específica, por ejemplo, sales a caminar si el clima es bueno, o te quedas en casa si está húmedo y frío.\n",
    "\n",
    "Para tomar tales decisiones, Python ofrece una instrucción especial. Debido a su naturaleza y su aplicación, se denomina instrucción condicional (o sentencia condicional).\n",
    "\n",
    "Existen varias variantes de la misma. Comenzaremos con la más simple, aumentando la dificultad lentamente.\n",
    "\n",
    "La primera forma de una sentencia condicional, que puede ver a continuación, está escrita de manera muy informal pero figurada:\n",
    "\n",
    "if true_or_not:\n",
    "    do_this_if_true\n",
    "\n",
    "sentencia if\n",
    "\n",
    "```python\n",
    "if the_weather_is_good:\n",
    "    go_for_a_walk()\n",
    "have_lunch()\n",
    "```\n",
    "\n",
    "```python\n",
    "if sheep_counter >= 120: # Evaluar una expresión condicional\n",
    "    sleep_and_dream() # Ejecutar si la expresión condicional es verdadera\n",
    "```\n",
    "\n",
    "```python\n",
    "if sheep_counter >= 120: # Evaluar una expresión condicional\n",
    "    sleep_and_dream() # Ejecutar si la expresión condicional es verdadera\n",
    "```\n",
    "\n",
    "``` python\n",
    "if sheep_counter >= 120:\n",
    "    make_a_bed()\n",
    "    take_a_shower()\n",
    "    sleep_and_dream()\n",
    "feed_the_sheepdogs()\n",
    "```\n",
    "\n",
    "sentencia if-else\n",
    "\n",
    "``` python\n",
    "if true_or_false_condition:\n",
    "    perform_if_condition_true\n",
    "else:\n",
    "    perform_if_condition_false\n",
    "```\n",
    "\n",
    "``` python\n",
    "if the_weather_is_good:\n",
    "    go_for_a_walk()\n",
    "else:\n",
    "    go_to_a_theater()\n",
    "have_lunch()\n",
    "```\n",
    "\n",
    "\n",
    "``` python\n",
    "if the_weather_is_good:\n",
    "    if nice_restaurant_is_found:\n",
    "        have_lunch()\n",
    "    else:\n",
    "        eat_a_sandwich()\n",
    "else:\n",
    "    if tickets_are_available:\n",
    "        go_to_the_theater()\n",
    "    else:\n",
    "        go_shopping()\n",
    "```\n",
    "\n",
    "Sentencias if-else anidadas\n",
    "\n",
    "``` python\n",
    "if the_weather_is_good:\n",
    "    if nice_restaurant_is_found:\n",
    "        have_lunch()\n",
    "    else:\n",
    "        eat_a_sandwich()\n",
    "else:\n",
    "    if tickets_are_available:\n",
    "        go_to_the_theater()\n",
    "    else:\n",
    "        go_shopping()\n",
    "```"
   ]
  },
  {
   "cell_type": "markdown",
   "metadata": {},
   "source": [
    "## Ejemplo 1"
   ]
  },
  {
   "cell_type": "code",
   "execution_count": 13,
   "metadata": {},
   "outputs": [
    {
     "name": "stdout",
     "output_type": "stream",
     "text": [
      "El número mayor es 8\n"
     ]
    }
   ],
   "source": [
    "# se leen dos numeros \n",
    "numero1 = int(input(\"Ingresa el primer numero: \"))\n",
    "numero2 = int(input(\"Ingresa el segundo número: \"))\n",
    "\n",
    "#Elegir el número mas grande \n",
    "if numero1 > numero2:\n",
    "    numero_mayor = numero1\n",
    "else:\n",
    "    numero_mayor = numero2\n",
    "\n",
    "print(f'El número mayor es {numero_mayor}')\n"
   ]
  },
  {
   "cell_type": "code",
   "execution_count": 16,
   "metadata": {},
   "outputs": [
    {
     "name": "stdout",
     "output_type": "stream",
     "text": [
      "El número mayor es 45\n"
     ]
    }
   ],
   "source": [
    "# se leen dos numeros \n",
    "numero1 = int(input(\"Ingresa el primer numero: \"))\n",
    "numero2 = int(input(\"Ingresa el segundo número: \"))\n",
    "\n",
    "#Elegir el número mas grande \n",
    "if numero1 > numero2:\n",
    "    numero_mayor = numero1\n",
    "    print(f'El número mayor es {numero_mayor}')\n",
    "else:\n",
    "    numero_mayor = numero2\n",
    "    print(f'El número mayor es {numero_mayor}')\n",
    "\n"
   ]
  },
  {
   "cell_type": "markdown",
   "metadata": {},
   "source": [
    "## Ejemplo 2\n",
    "\n",
    "Encontrar el numero mas grande de tres numeros"
   ]
  },
  {
   "cell_type": "code",
   "execution_count": 22,
   "metadata": {},
   "outputs": [
    {
     "name": "stdout",
     "output_type": "stream",
     "text": [
      "El número mayor es 10\n"
     ]
    }
   ],
   "source": [
    "# Solicitar tres numeros enteros\n",
    "n1 = int(input('Escribe el primer numero: '))\n",
    "n2 = int(input('Escribe el segundo numero: '))\n",
    "n3 = int(input('Escribe el tercer numero: '))\n",
    "\n",
    "numero_mayor = n1\n",
    "\n",
    "if n2 > numero_mayor:\n",
    "    numero_mayor = n2\n",
    "elif n3>numero_mayor:\n",
    "    numero_mayor = n3\n",
    "\n",
    "print(f'El número mayor es {numero_mayor}')"
   ]
  },
  {
   "cell_type": "code",
   "execution_count": null,
   "metadata": {},
   "outputs": [],
   "source": [
    "# Solicitar tres numeros enteros\n",
    "n1 = int(input('Escribe el primer numero: '))\n",
    "n2 = int(input('Escribe el segundo numero: '))\n",
    "n3 = int(input('Escribe el tercer numero: '))\n",
    "\n",
    "if n1>n2 and n1>n3:\n",
    "    numero_mayor = n1\n",
    "elif n2>n1 and n2>n3:\n",
    "    numero_mayor = n2\n",
    "else:\n",
    "    numero_mayor = n3\n",
    "\n",
    "print(f'El número mayor es: {numero_mayor}')"
   ]
  },
  {
   "cell_type": "code",
   "execution_count": null,
   "metadata": {},
   "outputs": [],
   "source": [
    "# Solicitar tres numeros enteros\n",
    "n1 = int(input('Escribe el primer numero: '))\n",
    "n2 = int(input('Escribe el segundo numero: '))\n",
    "n3 = int(input('Escribe el tercer numero: '))\n",
    "\n",
    "numero_mayor = n1\n",
    "\n",
    "if n2 > numero_mayor:\n",
    "    numero_mayor = n2\n",
    "\n",
    "if n3 > numero_mayor:\n",
    "    numero_mayor = n3\n",
    "\n",
    "print(f'El numero mayor es {numero_mayor}')"
   ]
  }
 ],
 "metadata": {
  "kernelspec": {
   "display_name": "Python 3",
   "language": "python",
   "name": "python3"
  },
  "language_info": {
   "codemirror_mode": {
    "name": "ipython",
    "version": 3
   },
   "file_extension": ".py",
   "mimetype": "text/x-python",
   "name": "python",
   "nbconvert_exporter": "python",
   "pygments_lexer": "ipython3",
   "version": "3.12.3"
  }
 },
 "nbformat": 4,
 "nbformat_minor": 2
}
