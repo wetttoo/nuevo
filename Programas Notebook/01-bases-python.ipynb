{
 "cells": [
  {
   "cell_type": "markdown",
   "metadata": {},
   "source": [
    "# Caracteres de Escape y una nueva línea"
   ]
  },
  {
   "cell_type": "code",
   "execution_count": 2,
   "metadata": {},
   "outputs": [
    {
     "name": "stdout",
     "output_type": "stream",
     "text": [
      "La witsi witsi araña\n",
      "subio a su telaraña\n",
      "La witsi witsi araña subio a su telaraña\n"
     ]
    }
   ],
   "source": [
    "print('La witsi witsi araña\\nsubio a su telaraña')\n",
    "print(\"La witsi witsi araña subio a su telaraña\")\n"
   ]
  },
  {
   "cell_type": "code",
   "execution_count": 7,
   "metadata": {},
   "outputs": [
    {
     "name": "stdout",
     "output_type": "stream",
     "text": [
      "La witsi araña\\Arañota\n"
     ]
    }
   ],
   "source": [
    "print('La witsi araña\\\\Arañota')"
   ]
  },
  {
   "cell_type": "code",
   "execution_count": 9,
   "metadata": {},
   "outputs": [
    {
     "name": "stdout",
     "output_type": "stream",
     "text": [
      "El resultado es: 10\n"
     ]
    }
   ],
   "source": [
    "x = 10\n",
    "print(\"El resultado es: \" + str(x))"
   ]
  },
  {
   "cell_type": "code",
   "execution_count": 10,
   "metadata": {},
   "outputs": [
    {
     "name": "stdout",
     "output_type": "stream",
     "text": [
      "El valor de x es: 22\n"
     ]
    }
   ],
   "source": [
    "x=22\n",
    "print(f'El valor de x es: {x}')"
   ]
  },
  {
   "cell_type": "code",
   "execution_count": 22,
   "metadata": {},
   "outputs": [
    {
     "name": "stdout",
     "output_type": "stream",
     "text": [
      "57.900000000000006\n",
      "57.9\n",
      "La suma de 45.6 + 12.3 = 57.900000000000006\n",
      "La suma de 45.6 + 12.3 = 57.9\n",
      "57.900000000000006\n"
     ]
    }
   ],
   "source": [
    "x = 45.6 \n",
    "y  = 12.3\n",
    "\n",
    "print(str(x+y))\n",
    "\n",
    "print(str(round(x+y,2)))\n",
    "\n",
    "# Utilizando el string literal \n",
    "print('La suma de ' + str(x) + ' + ' + str(y) + ' = ' + str(x+y))\n",
    "print(f'La suma de {x} + {y} = {round(x+y,2)}')\n",
    "\n",
    "suma = x + y\n",
    "print(suma)\n"
   ]
  },
  {
   "cell_type": "markdown",
   "metadata": {},
   "source": [
    "# Usando multiples argumentos"
   ]
  },
  {
   "cell_type": "code",
   "execution_count": 26,
   "metadata": {},
   "outputs": [
    {
     "name": "stdout",
     "output_type": "stream",
     "text": [
      "La arañame mordio el dedo\n",
      "La araña me mordio mis 20 dedos\n",
      "Ya tenemos hambre\n"
     ]
    }
   ],
   "source": [
    "print('La araña' + 'me mordio el dedo')\n",
    "x = 20\n",
    "print('La araña', 'me mordio', 'mis', x, 'dedos')\n",
    "\n",
    "print('Ya tenemos', 'hambre')"
   ]
  },
  {
   "cell_type": "markdown",
   "metadata": {},
   "source": [
    "#   Argumentos de palabra clave"
   ]
  },
  {
   "cell_type": "markdown",
   "metadata": {},
   "source": [
    "Python ofrece otro mecanismo para el paso de argumentos, que puede ser útil cuando deseas convencer a la función print() para que cambie un poco su comportamiento.\n",
    "\n",
    "No vamos a explicarlo en profundidad ahora. Planeamos hacerlo cuando hablemos de funciones. Por ahora, simplemente queremos mostrarte cómo funciona. Siéntete libre de usarlo en tus propios programas.\n",
    "\n",
    "El mecanismo se llama argumentos de palabras clave. El nombre proviene del hecho de que el significado de estos argumentos se toma no de su ubicación (posición) sino de la palabra especial (palabra clave) utilizada para identificarlos.\n",
    "\n",
    "La función print() tiene dos argumentos de palabra clave que puedes usar para tus propósitos. El primero se llama end."
   ]
  },
  {
   "cell_type": "code",
   "execution_count": 28,
   "metadata": {},
   "outputs": [
    {
     "name": "stdout",
     "output_type": "stream",
     "text": [
      "Hola Seño\n",
      "\n",
      "Hola Benito\n"
     ]
    }
   ],
   "source": [
    "print('Hola Seño')\n",
    "print()\n",
    "print('Hola Benito')"
   ]
  },
  {
   "cell_type": "code",
   "execution_count": 29,
   "metadata": {},
   "outputs": [
    {
     "name": "stdout",
     "output_type": "stream",
     "text": [
      "Hola como estas Vaca Grande\n",
      "Hola yo soy tu pitufo\n"
     ]
    }
   ],
   "source": [
    "print('Hola como estas Vaca Grande',end='\\n')\n",
    "print('Hola yo soy tu pitufo')"
   ]
  },
  {
   "cell_type": "code",
   "execution_count": 30,
   "metadata": {},
   "outputs": [
    {
     "name": "stdout",
     "output_type": "stream",
     "text": [
      "Hola soy tu miche Con limon y sal\n"
     ]
    }
   ],
   "source": [
    "print('Hola soy tu miche', end=\" \")\n",
    "print('Con limon y sal')"
   ]
  },
  {
   "cell_type": "markdown",
   "metadata": {},
   "source": [
    "Para usarlo, es necesario conocer algunas reglas:\n",
    "\n",
    "- Un argumento de palabra clave consta de tres elementos: una palabra clave se identifica el argumento (end aquí); un signo de igual (=); y un valor asignado a ese argumento;\n",
    "- cualquier argumento de palabra clave debe colocarse después del último argumento posicional (esto es muy importante)\n",
    "\n",
    "En nuestro ejemplo, hemos utilizado el argumento de palabra clave end, y lo hemos configurado como cadena que contiene un espacio\n",
    "\n",
    "Como puedes ver, el argumento de palabra clave end determina los caracteres que la función print() envía a la salida una vez que llega al final de sus argumentos posicionales.\n",
    "\n",
    "El comportamiento predeterminado refleja la situación en la que el argumento de palabra clave end se usa implícitamente de la siguiente manera: end=\"\\n\"."
   ]
  },
  {
   "cell_type": "code",
   "execution_count": null,
   "metadata": {},
   "outputs": [],
   "source": [
    "print('Hola Mundo', end='*')\n",
    "print('estoy aqui')"
   ]
  },
  {
   "cell_type": "code",
   "execution_count": null,
   "metadata": {},
   "outputs": [],
   "source": [
    "# Palabra clave sep\n",
    "print('Hola', 'como','estas', 'America', 'Campion', sep='-')\n"
   ]
  },
  {
   "cell_type": "code",
   "execution_count": 34,
   "metadata": {},
   "outputs": [
    {
     "name": "stdout",
     "output_type": "stream",
     "text": [
      "Hola-como-estas-America-Campion**Soyla/Vaca/del Corral\n",
      "Tengo arta hambre\n"
     ]
    }
   ],
   "source": [
    "print('Hola', 'como','estas', 'America', 'Campion', sep='-', end='**')\n",
    "print('Soyla', 'Vaca','del Corral', sep='/')\n",
    "print(\"Tengo arta hambre\")"
   ]
  },
  {
   "cell_type": "markdown",
   "metadata": {},
   "source": [
    " # LAB La función print() y sus argumentos"
   ]
  },
  {
   "cell_type": "markdown",
   "metadata": {},
   "source": [
    "## Escenario"
   ]
  },
  {
   "cell_type": "markdown",
   "metadata": {},
   "source": [
    "Modifica la primera línea de código en el editor, usando las palabras claves reservadas sep y end, para que se obtenga la salida esperada. Emplea dos funciones print() en el editor.\n",
    "\n",
    "No cambies nada en la segunda invocación del print()."
   ]
  },
  {
   "cell_type": "markdown",
   "metadata": {},
   "source": [
    "``` python\n",
    "print(\"Programming\",\"Essentials\",\"in\")\n",
    "print(\"Python\")\n",
    "```        "
   ]
  },
  {
   "cell_type": "markdown",
   "metadata": {},
   "source": [
    "## Salida Esperada\n",
    "```Programming***Essentials***in...Python```\n"
   ]
  },
  {
   "cell_type": "code",
   "execution_count": 36,
   "metadata": {},
   "outputs": [
    {
     "name": "stdout",
     "output_type": "stream",
     "text": [
      "Programming***Essentials***in...Python\n"
     ]
    }
   ],
   "source": [
    "print(\"Programming\",\"Essentials\",\"in\", sep='***', end='...')\n",
    "print(\"Python\")"
   ]
  }
 ],
 "metadata": {
  "kernelspec": {
   "display_name": "Python 3",
   "language": "python",
   "name": "python3"
  },
  "language_info": {
   "codemirror_mode": {
    "name": "ipython",
    "version": 3
   },
   "file_extension": ".py",
   "mimetype": "text/x-python",
   "name": "python",
   "nbconvert_exporter": "python",
   "pygments_lexer": "ipython3",
   "version": "3.12.3"
  }
 },
 "nbformat": 4,
 "nbformat_minor": 2
}
